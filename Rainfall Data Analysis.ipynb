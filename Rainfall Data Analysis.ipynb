{
 "cells": [
  {
   "cell_type": "markdown",
   "id": "fee6ca68",
   "metadata": {},
   "source": [
    "Importing the libraries "
   ]
  },
  {
   "cell_type": "code",
   "execution_count": 131,
   "id": "guided-monitoring",
   "metadata": {},
   "outputs": [],
   "source": [
    "import pandas as pd\n",
    "import matplotlib.pyplot as plt\n",
    "import seaborn as sns\n",
    "import matplotlib.dates as mdates\n",
    "import numpy as np\n",
    "import openpyxl\n",
    "import pymannkendall as mk"
   ]
  },
  {
   "cell_type": "code",
   "execution_count": 132,
   "id": "hairy-three",
   "metadata": {},
   "outputs": [
    {
     "data": {
      "text/html": [
       "<div>\n",
       "<style scoped>\n",
       "    .dataframe tbody tr th:only-of-type {\n",
       "        vertical-align: middle;\n",
       "    }\n",
       "\n",
       "    .dataframe tbody tr th {\n",
       "        vertical-align: top;\n",
       "    }\n",
       "\n",
       "    .dataframe thead th {\n",
       "        text-align: right;\n",
       "    }\n",
       "</style>\n",
       "<table border=\"1\" class=\"dataframe\">\n",
       "  <thead>\n",
       "    <tr style=\"text-align: right;\">\n",
       "      <th></th>\n",
       "      <th>Date</th>\n",
       "      <th>Year</th>\n",
       "      <th>Month</th>\n",
       "      <th>Season</th>\n",
       "      <th>Jaffna</th>\n",
       "      <th>Vauniya</th>\n",
       "      <th>Killinochi</th>\n",
       "      <th>Mullaitivu</th>\n",
       "      <th>Mannar</th>\n",
       "    </tr>\n",
       "  </thead>\n",
       "  <tbody>\n",
       "    <tr>\n",
       "      <th>0</th>\n",
       "      <td>1989-01-01</td>\n",
       "      <td>1989</td>\n",
       "      <td>1</td>\n",
       "      <td>NEM</td>\n",
       "      <td>14.9</td>\n",
       "      <td>14.2</td>\n",
       "      <td>79.1</td>\n",
       "      <td>15.0</td>\n",
       "      <td>0.0</td>\n",
       "    </tr>\n",
       "    <tr>\n",
       "      <th>1</th>\n",
       "      <td>1989-02-01</td>\n",
       "      <td>1989</td>\n",
       "      <td>2</td>\n",
       "      <td>NEM</td>\n",
       "      <td>0.0</td>\n",
       "      <td>0.0</td>\n",
       "      <td>0.0</td>\n",
       "      <td>0.0</td>\n",
       "      <td>122.0</td>\n",
       "    </tr>\n",
       "    <tr>\n",
       "      <th>2</th>\n",
       "      <td>1989-03-01</td>\n",
       "      <td>1989</td>\n",
       "      <td>3</td>\n",
       "      <td>FIM</td>\n",
       "      <td>0.0</td>\n",
       "      <td>86.6</td>\n",
       "      <td>15.2</td>\n",
       "      <td>4.0</td>\n",
       "      <td>123.0</td>\n",
       "    </tr>\n",
       "    <tr>\n",
       "      <th>3</th>\n",
       "      <td>1989-04-01</td>\n",
       "      <td>1989</td>\n",
       "      <td>4</td>\n",
       "      <td>FIM</td>\n",
       "      <td>33.0</td>\n",
       "      <td>121.3</td>\n",
       "      <td>44.4</td>\n",
       "      <td>5.0</td>\n",
       "      <td>26.0</td>\n",
       "    </tr>\n",
       "    <tr>\n",
       "      <th>4</th>\n",
       "      <td>1989-05-01</td>\n",
       "      <td>1989</td>\n",
       "      <td>5</td>\n",
       "      <td>SWM</td>\n",
       "      <td>46.0</td>\n",
       "      <td>72.9</td>\n",
       "      <td>33.3</td>\n",
       "      <td>7.0</td>\n",
       "      <td>0.0</td>\n",
       "    </tr>\n",
       "  </tbody>\n",
       "</table>\n",
       "</div>"
      ],
      "text/plain": [
       "        Date  Year  Month Season  Jaffna  Vauniya  Killinochi  Mullaitivu  \\\n",
       "0 1989-01-01  1989      1    NEM    14.9     14.2        79.1        15.0   \n",
       "1 1989-02-01  1989      2    NEM     0.0      0.0         0.0         0.0   \n",
       "2 1989-03-01  1989      3    FIM     0.0     86.6        15.2         4.0   \n",
       "3 1989-04-01  1989      4    FIM    33.0    121.3        44.4         5.0   \n",
       "4 1989-05-01  1989      5    SWM    46.0     72.9        33.3         7.0   \n",
       "\n",
       "   Mannar  \n",
       "0     0.0  \n",
       "1   122.0  \n",
       "2   123.0  \n",
       "3    26.0  \n",
       "4     0.0  "
      ]
     },
     "execution_count": 132,
     "metadata": {},
     "output_type": "execute_result"
    }
   ],
   "source": [
    "# importing data\n",
    "df = pd.read_csv(\"data.csv\")\n",
    "df['Date']= pd.to_datetime(df['Date'])\n",
    "df.head()"
   ]
  },
  {
   "cell_type": "code",
   "execution_count": 133,
   "id": "completed-marathon",
   "metadata": {},
   "outputs": [],
   "source": [
    "#Create a new variable called ‘total’: Total rainfall in all five districts\n",
    "\n",
    "df['total']=df['Jaffna']+df['Vauniya']+df['Killinochi']+df['Mullaitivu']+df['Mannar']"
   ]
  },
  {
   "cell_type": "code",
   "execution_count": 135,
   "id": "cross-domestic",
   "metadata": {},
   "outputs": [
    {
     "data": {
      "text/plain": [
       "0"
      ]
     },
     "execution_count": 135,
     "metadata": {},
     "output_type": "execute_result"
    }
   ],
   "source": [
    "#checking for any missing values \n",
    "df.isna().sum().sum()"
   ]
  },
  {
   "cell_type": "markdown",
   "id": "ba2e312d",
   "metadata": {},
   "source": [
    "Generating graphs for better interpretation"
   ]
  },
  {
   "cell_type": "code",
   "execution_count": 137,
   "id": "comic-giant",
   "metadata": {},
   "outputs": [],
   "source": [
    "df_Jaffna=df.drop(['Vauniya','Killinochi','Mullaitivu','Mannar','total'], axis=1)\n",
    "df_Vauniya=df.drop(['Jaffna','Killinochi','Mullaitivu','Mannar','total'], axis=1)\n",
    "df_Killinochi=df.drop(['Vauniya','Jaffna','Mullaitivu','Mannar','total'], axis=1)\n",
    "df_Mullaitivu=df.drop(['Vauniya','Killinochi','Jaffna','Mannar','total'], axis=1)\n",
    "df_Mannar=df.drop(['Vauniya','Killinochi','Mullaitivu','Jaffna','total'], axis=1)\n",
    "df_total=df.drop(['Vauniya','Killinochi','Mullaitivu','Jaffna','Mannar'], axis=1)"
   ]
  },
  {
   "cell_type": "code",
   "execution_count": 138,
   "id": "laden-identification",
   "metadata": {},
   "outputs": [
    {
     "data": {
      "text/plain": [
       "Text(0.5, 1.0, 'Average Rainfall in Jaffna')"
      ]
     },
     "execution_count": 138,
     "metadata": {},
     "output_type": "execute_result"
    },
    {
     "data": {
      "image/png": "[encoded data removed]",
      "text/plain": [
       "<Figure size 792x288 with 1 Axes>"
      ]
     },
     "metadata": {},
     "output_type": "display_data"
    }
   ],
   "source": [
    "\n",
    "sns.set(rc={'figure.figsize': (11, 4)})\n",
    "df['Jaffna'].plot(linewidth=0.5)\n",
    "plt.ylabel(\"Rainfall mm\")\n",
    "plt.title('Average Rainfall in Jaffna')\n"
   ]
  },
  {
   "cell_type": "code",
   "execution_count": 139,
   "id": "numerous-tension",
   "metadata": {},
   "outputs": [
    {
     "data": {
      "text/plain": [
       "Text(0.5, 0, 'Months')"
      ]
     },
     "execution_count": 139,
     "metadata": {},
     "output_type": "execute_result"
    },
    {
     "data": {
      "image/png": "[encoded data removed]",
      "text/plain": [
       "<Figure size 720x360 with 1 Axes>"
      ]
     },
     "metadata": {},
     "output_type": "display_data"
    }
   ],
   "source": [
    "fig, axes = plt.subplots(1, 1, sharex=True, figsize=(10,5))\n",
    "fig.suptitle('Monthly Average Rainfall')\n",
    "sns.boxplot(data=df_Jaffna, x='Month', y='Jaffna',showmeans=True)\n",
    "plt.ylabel(\"Rainfall mm\")\n",
    "plt.xlabel(\"Months\")"
   ]
  },
  {
   "cell_type": "code",
   "execution_count": 140,
   "id": "valued-aquatic",
   "metadata": {},
   "outputs": [
    {
     "data": {
      "image/png": "[encoded data removed]",
      "text/plain": [
       "<Figure size 792x288 with 1 Axes>"
      ]
     },
     "metadata": {},
     "output_type": "display_data"
    }
   ],
   "source": [
    "plt.plot(df_Jaffna['Jaffna'],label='Jaffna')\n",
    "plt.plot(df_Vauniya['Vauniya'],label='Vauniya')\n",
    "plt.plot(df_Killinochi['Killinochi'],label='Killinochi')\n",
    "plt.plot(df_Mullaitivu['Mullaitivu'],label='Mullaitivu')\n",
    "plt.plot(df_Mannar['Mannar'],label='Mannar')\n",
    "plt.legend()\n",
    "plt.ylabel(\"Rainfall mm\")\n",
    "plt.title('Districtwise Average Rainfall')\n",
    "plt.show()"
   ]
  },
  {
   "cell_type": "code",
   "execution_count": 141,
   "id": "unlike-independence",
   "metadata": {},
   "outputs": [
    {
     "data": {
      "text/plain": [
       "Jaffna        1347.059054\n",
       "Vauniya       1400.624744\n",
       "Killinochi    1356.568130\n",
       "Mullaitivu    1407.461260\n",
       "Mannar         975.085837\n",
       "dtype: float64"
      ]
     },
     "execution_count": 141,
     "metadata": {},
     "output_type": "execute_result"
    }
   ],
   "source": [
    "(df[['Jaffna','Vauniya','Killinochi','Mullaitivu','Mannar']].sum())/30"
   ]
  },
  {
   "cell_type": "code",
   "execution_count": 142,
   "id": "japanese-universe",
   "metadata": {},
   "outputs": [
    {
     "name": "stdout",
     "output_type": "stream",
     "text": [
      "Highest and lowest monthly average rainfall are jaffna in 11 th month and 7\n",
      "Highest and lowest monthly average rainfall are Vauniya in 11 th month and 6\n",
      "Highest and lowest monthly average rainfall are Killinochi in 11 th month and 6\n",
      "Highest and lowest monthly average rainfall are Mullaitivu in 11 th month and 6\n",
      "Highest and lowest monthly average rainfall are Mannar in 11 th month and 6\n"
     ]
    }
   ],
   "source": [
    "print('Highest and lowest monthly average rainfall are jaffna in',df_Jaffna.groupby('Month')['Jaffna'].mean().idxmax(),'th month and',df_Jaffna.groupby('Month')['Jaffna'].mean().idxmin())\n",
    "print('Highest and lowest monthly average rainfall are Vauniya in',df_Vauniya.groupby('Month')['Vauniya'].mean().idxmax(),'th month and',df_Vauniya.groupby('Month')['Vauniya'].mean().idxmin())\n",
    "print('Highest and lowest monthly average rainfall are Killinochi in',df_Killinochi.groupby('Month')['Killinochi'].mean().idxmax(),'th month and',df_Killinochi.groupby('Month')['Killinochi'].mean().idxmin())\n",
    "print('Highest and lowest monthly average rainfall are Mullaitivu in',df_Mullaitivu.groupby('Month')['Mullaitivu'].mean().idxmax(),'th month and',df_Mullaitivu.groupby('Month')['Mullaitivu'].mean().idxmin())\n",
    "print('Highest and lowest monthly average rainfall are Mannar in',df_Mannar.groupby('Month')['Mannar'].mean().idxmax(),'th month and',df_Mannar.groupby('Month')['Mannar'].mean().idxmin())"
   ]
  },
  {
   "cell_type": "code",
   "execution_count": 143,
   "id": "sensitive-building",
   "metadata": {},
   "outputs": [
    {
     "data": {
      "text/plain": [
       "<bound method NDFrame.head of            Jaffna     Vauniya  Killinochi  Mullaitivu      Mannar        total\n",
       "Month                                                                         \n",
       "1       70.228307  117.174050   89.094162  111.435266   62.291443   450.223229\n",
       "2       28.049645   73.657682   60.482527   72.108312   31.420224   265.718391\n",
       "3       34.354797   48.735722   46.463239   29.661601   38.598472   197.813831\n",
       "4       66.269529  123.953670   69.461445   48.191997   84.501766   392.378407\n",
       "5       65.876535   93.505619   77.112452   82.646084   59.979807   379.120496\n",
       "6       19.477168   19.998300   18.448646   15.025077    8.231097    81.180288\n",
       "7       15.701412   34.459242   22.665868   36.904378   10.004542   119.735441\n",
       "8       51.261026   62.284068   49.025369   59.945509   17.370805   239.886777\n",
       "9       76.174346   88.812292   65.369483   74.430234   48.218477   353.004832\n",
       "10     236.092883  228.593330  204.264203  202.479701  173.659968  1045.090085\n",
       "11     422.450430  276.492076  374.492405  363.913303  267.367652  1704.715866\n",
       "12     261.122978  232.958693  279.688331  310.719797  173.441582  1257.931381>"
      ]
     },
     "execution_count": 143,
     "metadata": {},
     "output_type": "execute_result"
    }
   ],
   "source": [
    "df_monthlyAvg = df.drop(['Year'], axis=1).groupby('Month').mean()\n",
    "df_monthlyAvg.to_excel('monthly average districtwise.xlsx')\n",
    "df_monthlyAvg.head\n"
   ]
  },
  {
   "cell_type": "code",
   "execution_count": 144,
   "id": "popular-feature",
   "metadata": {},
   "outputs": [
    {
     "data": {
      "text/html": [
       "<div>\n",
       "<style scoped>\n",
       "    .dataframe tbody tr th:only-of-type {\n",
       "        vertical-align: middle;\n",
       "    }\n",
       "\n",
       "    .dataframe tbody tr th {\n",
       "        vertical-align: top;\n",
       "    }\n",
       "\n",
       "    .dataframe thead th {\n",
       "        text-align: right;\n",
       "    }\n",
       "</style>\n",
       "<table border=\"1\" class=\"dataframe\">\n",
       "  <thead>\n",
       "    <tr style=\"text-align: right;\">\n",
       "      <th></th>\n",
       "      <th>Jaffna</th>\n",
       "      <th>Vauniya</th>\n",
       "      <th>Killinochi</th>\n",
       "      <th>Mullaitivu</th>\n",
       "      <th>Mannar</th>\n",
       "      <th>total</th>\n",
       "    </tr>\n",
       "    <tr>\n",
       "      <th>Season</th>\n",
       "      <th></th>\n",
       "      <th></th>\n",
       "      <th></th>\n",
       "      <th></th>\n",
       "      <th></th>\n",
       "      <th></th>\n",
       "    </tr>\n",
       "  </thead>\n",
       "  <tbody>\n",
       "    <tr>\n",
       "      <th>FIM</th>\n",
       "      <td>50.312163</td>\n",
       "      <td>86.344696</td>\n",
       "      <td>57.962342</td>\n",
       "      <td>38.926799</td>\n",
       "      <td>61.550119</td>\n",
       "      <td>295.096119</td>\n",
       "    </tr>\n",
       "    <tr>\n",
       "      <th>NEM</th>\n",
       "      <td>119.800310</td>\n",
       "      <td>141.263475</td>\n",
       "      <td>143.088340</td>\n",
       "      <td>164.754459</td>\n",
       "      <td>89.051083</td>\n",
       "      <td>657.957667</td>\n",
       "    </tr>\n",
       "    <tr>\n",
       "      <th>SIM</th>\n",
       "      <td>329.271656</td>\n",
       "      <td>252.542703</td>\n",
       "      <td>289.378304</td>\n",
       "      <td>283.196502</td>\n",
       "      <td>220.513810</td>\n",
       "      <td>1374.902976</td>\n",
       "    </tr>\n",
       "    <tr>\n",
       "      <th>SWM</th>\n",
       "      <td>45.698097</td>\n",
       "      <td>59.811904</td>\n",
       "      <td>46.524364</td>\n",
       "      <td>53.790257</td>\n",
       "      <td>28.760946</td>\n",
       "      <td>234.585567</td>\n",
       "    </tr>\n",
       "  </tbody>\n",
       "</table>\n",
       "</div>"
      ],
      "text/plain": [
       "            Jaffna     Vauniya  Killinochi  Mullaitivu      Mannar  \\\n",
       "Season                                                               \n",
       "FIM      50.312163   86.344696   57.962342   38.926799   61.550119   \n",
       "NEM     119.800310  141.263475  143.088340  164.754459   89.051083   \n",
       "SIM     329.271656  252.542703  289.378304  283.196502  220.513810   \n",
       "SWM      45.698097   59.811904   46.524364   53.790257   28.760946   \n",
       "\n",
       "              total  \n",
       "Season               \n",
       "FIM      295.096119  \n",
       "NEM      657.957667  \n",
       "SIM     1374.902976  \n",
       "SWM      234.585567  "
      ]
     },
     "execution_count": 144,
     "metadata": {},
     "output_type": "execute_result"
    }
   ],
   "source": [
    "df_seasonalAvg = df.drop(['Year','Month'], axis=1).groupby('Season').mean()\n",
    "df_seasonalAvg.to_excel('seasonal average districtwise.xlsx')\n",
    "df_seasonalAvg\n"
   ]
  },
  {
   "cell_type": "code",
   "execution_count": 145,
   "id": "combined-journalism",
   "metadata": {},
   "outputs": [
    {
     "data": {
      "text/html": [
       "<div>\n",
       "<style scoped>\n",
       "    .dataframe tbody tr th:only-of-type {\n",
       "        vertical-align: middle;\n",
       "    }\n",
       "\n",
       "    .dataframe tbody tr th {\n",
       "        vertical-align: top;\n",
       "    }\n",
       "\n",
       "    .dataframe thead th {\n",
       "        text-align: right;\n",
       "    }\n",
       "</style>\n",
       "<table border=\"1\" class=\"dataframe\">\n",
       "  <thead>\n",
       "    <tr style=\"text-align: right;\">\n",
       "      <th></th>\n",
       "      <th>Jaffna</th>\n",
       "      <th>Vauniya</th>\n",
       "      <th>Killinochi</th>\n",
       "      <th>Mullaitivu</th>\n",
       "      <th>Mannar</th>\n",
       "      <th>total</th>\n",
       "    </tr>\n",
       "    <tr>\n",
       "      <th>Season</th>\n",
       "      <th></th>\n",
       "      <th></th>\n",
       "      <th></th>\n",
       "      <th></th>\n",
       "      <th></th>\n",
       "      <th></th>\n",
       "    </tr>\n",
       "  </thead>\n",
       "  <tbody>\n",
       "    <tr>\n",
       "      <th>FIM</th>\n",
       "      <td>3018.729756</td>\n",
       "      <td>5180.681758</td>\n",
       "      <td>3477.740516</td>\n",
       "      <td>2335.607954</td>\n",
       "      <td>3693.007154</td>\n",
       "      <td>17705.767139</td>\n",
       "    </tr>\n",
       "    <tr>\n",
       "      <th>NEM</th>\n",
       "      <td>10782.027903</td>\n",
       "      <td>12713.712754</td>\n",
       "      <td>12877.950606</td>\n",
       "      <td>14827.901271</td>\n",
       "      <td>8014.597490</td>\n",
       "      <td>59216.190024</td>\n",
       "    </tr>\n",
       "    <tr>\n",
       "      <th>SIM</th>\n",
       "      <td>19756.299388</td>\n",
       "      <td>15152.562193</td>\n",
       "      <td>17362.698238</td>\n",
       "      <td>16991.790106</td>\n",
       "      <td>13230.828621</td>\n",
       "      <td>82494.178547</td>\n",
       "    </tr>\n",
       "    <tr>\n",
       "      <th>SWM</th>\n",
       "      <td>6854.714586</td>\n",
       "      <td>8971.785629</td>\n",
       "      <td>6978.654527</td>\n",
       "      <td>8068.538477</td>\n",
       "      <td>4314.141832</td>\n",
       "      <td>35187.835051</td>\n",
       "    </tr>\n",
       "  </tbody>\n",
       "</table>\n",
       "</div>"
      ],
      "text/plain": [
       "              Jaffna       Vauniya    Killinochi    Mullaitivu        Mannar  \\\n",
       "Season                                                                         \n",
       "FIM      3018.729756   5180.681758   3477.740516   2335.607954   3693.007154   \n",
       "NEM     10782.027903  12713.712754  12877.950606  14827.901271   8014.597490   \n",
       "SIM     19756.299388  15152.562193  17362.698238  16991.790106  13230.828621   \n",
       "SWM      6854.714586   8971.785629   6978.654527   8068.538477   4314.141832   \n",
       "\n",
       "               total  \n",
       "Season                \n",
       "FIM     17705.767139  \n",
       "NEM     59216.190024  \n",
       "SIM     82494.178547  \n",
       "SWM     35187.835051  "
      ]
     },
     "execution_count": 145,
     "metadata": {},
     "output_type": "execute_result"
    }
   ],
   "source": [
    "df_seasonSum = df.drop(['Year','Month'], axis=1).groupby('Season').sum()\n",
    "df_seasonSum.to_excel('seasonal total rainfall districtwise.xlsx')\n",
    "df_seasonSum\n"
   ]
  },
  {
   "cell_type": "code",
   "execution_count": 146,
   "id": "romance-insulation",
   "metadata": {},
   "outputs": [
    {
     "data": {
      "text/html": [
       "<div>\n",
       "<style scoped>\n",
       "    .dataframe tbody tr th:only-of-type {\n",
       "        vertical-align: middle;\n",
       "    }\n",
       "\n",
       "    .dataframe tbody tr th {\n",
       "        vertical-align: top;\n",
       "    }\n",
       "\n",
       "    .dataframe thead th {\n",
       "        text-align: right;\n",
       "    }\n",
       "</style>\n",
       "<table border=\"1\" class=\"dataframe\">\n",
       "  <thead>\n",
       "    <tr style=\"text-align: right;\">\n",
       "      <th></th>\n",
       "      <th>Jaffna</th>\n",
       "      <th>Vauniya</th>\n",
       "      <th>Killinochi</th>\n",
       "      <th>Mullaitivu</th>\n",
       "      <th>Mannar</th>\n",
       "      <th>total</th>\n",
       "    </tr>\n",
       "    <tr>\n",
       "      <th>Year</th>\n",
       "      <th></th>\n",
       "      <th></th>\n",
       "      <th></th>\n",
       "      <th></th>\n",
       "      <th></th>\n",
       "      <th></th>\n",
       "    </tr>\n",
       "  </thead>\n",
       "  <tbody>\n",
       "    <tr>\n",
       "      <th>1989</th>\n",
       "      <td>77.408333</td>\n",
       "      <td>83.075000</td>\n",
       "      <td>83.200000</td>\n",
       "      <td>57.166667</td>\n",
       "      <td>95.034167</td>\n",
       "      <td>395.884166</td>\n",
       "    </tr>\n",
       "    <tr>\n",
       "      <th>1990</th>\n",
       "      <td>125.166667</td>\n",
       "      <td>109.566667</td>\n",
       "      <td>104.608333</td>\n",
       "      <td>75.250000</td>\n",
       "      <td>76.570792</td>\n",
       "      <td>491.162458</td>\n",
       "    </tr>\n",
       "    <tr>\n",
       "      <th>1991</th>\n",
       "      <td>91.333333</td>\n",
       "      <td>86.495195</td>\n",
       "      <td>117.308333</td>\n",
       "      <td>42.541667</td>\n",
       "      <td>60.187940</td>\n",
       "      <td>397.866467</td>\n",
       "    </tr>\n",
       "    <tr>\n",
       "      <th>1992</th>\n",
       "      <td>72.013792</td>\n",
       "      <td>97.191667</td>\n",
       "      <td>92.133333</td>\n",
       "      <td>41.808333</td>\n",
       "      <td>53.876726</td>\n",
       "      <td>357.023851</td>\n",
       "    </tr>\n",
       "    <tr>\n",
       "      <th>1993</th>\n",
       "      <td>159.108334</td>\n",
       "      <td>143.525000</td>\n",
       "      <td>159.208333</td>\n",
       "      <td>143.816667</td>\n",
       "      <td>107.642764</td>\n",
       "      <td>713.301097</td>\n",
       "    </tr>\n",
       "  </tbody>\n",
       "</table>\n",
       "</div>"
      ],
      "text/plain": [
       "          Jaffna     Vauniya  Killinochi  Mullaitivu      Mannar       total\n",
       "Year                                                                        \n",
       "1989   77.408333   83.075000   83.200000   57.166667   95.034167  395.884166\n",
       "1990  125.166667  109.566667  104.608333   75.250000   76.570792  491.162458\n",
       "1991   91.333333   86.495195  117.308333   42.541667   60.187940  397.866467\n",
       "1992   72.013792   97.191667   92.133333   41.808333   53.876726  357.023851\n",
       "1993  159.108334  143.525000  159.208333  143.816667  107.642764  713.301097"
      ]
     },
     "execution_count": 146,
     "metadata": {},
     "output_type": "execute_result"
    }
   ],
   "source": [
    "df_yearlyAvg = df.drop(['Month'], axis=1).groupby('Year').mean()\n",
    "df_yearlyAvg.to_excel('yearly monthly avarage districtwise.xlsx')\n",
    "df_yearlyAvg.head()"
   ]
  },
  {
   "cell_type": "code",
   "execution_count": 147,
   "id": "ecb11121",
   "metadata": {},
   "outputs": [
    {
     "data": {
      "text/html": [
       "<div>\n",
       "<style scoped>\n",
       "    .dataframe tbody tr th:only-of-type {\n",
       "        vertical-align: middle;\n",
       "    }\n",
       "\n",
       "    .dataframe tbody tr th {\n",
       "        vertical-align: top;\n",
       "    }\n",
       "\n",
       "    .dataframe thead th {\n",
       "        text-align: right;\n",
       "    }\n",
       "</style>\n",
       "<table border=\"1\" class=\"dataframe\">\n",
       "  <thead>\n",
       "    <tr style=\"text-align: right;\">\n",
       "      <th></th>\n",
       "      <th>Jaffna</th>\n",
       "      <th>Vauniya</th>\n",
       "      <th>Killinochi</th>\n",
       "      <th>Mullaitivu</th>\n",
       "      <th>Mannar</th>\n",
       "      <th>total</th>\n",
       "    </tr>\n",
       "    <tr>\n",
       "      <th>Year</th>\n",
       "      <th></th>\n",
       "      <th></th>\n",
       "      <th></th>\n",
       "      <th></th>\n",
       "      <th></th>\n",
       "      <th></th>\n",
       "    </tr>\n",
       "  </thead>\n",
       "  <tbody>\n",
       "    <tr>\n",
       "      <th>1989</th>\n",
       "      <td>928.899996</td>\n",
       "      <td>996.900000</td>\n",
       "      <td>998.4</td>\n",
       "      <td>686.0</td>\n",
       "      <td>1140.410000</td>\n",
       "      <td>4750.609996</td>\n",
       "    </tr>\n",
       "    <tr>\n",
       "      <th>1990</th>\n",
       "      <td>1502.000000</td>\n",
       "      <td>1314.800000</td>\n",
       "      <td>1255.3</td>\n",
       "      <td>903.0</td>\n",
       "      <td>918.849499</td>\n",
       "      <td>5893.949499</td>\n",
       "    </tr>\n",
       "    <tr>\n",
       "      <th>1991</th>\n",
       "      <td>1095.999997</td>\n",
       "      <td>1037.942334</td>\n",
       "      <td>1407.7</td>\n",
       "      <td>510.5</td>\n",
       "      <td>722.255278</td>\n",
       "      <td>4774.397609</td>\n",
       "    </tr>\n",
       "    <tr>\n",
       "      <th>1992</th>\n",
       "      <td>864.165499</td>\n",
       "      <td>1166.300000</td>\n",
       "      <td>1105.6</td>\n",
       "      <td>501.7</td>\n",
       "      <td>646.520715</td>\n",
       "      <td>4284.286214</td>\n",
       "    </tr>\n",
       "    <tr>\n",
       "      <th>1993</th>\n",
       "      <td>1909.300003</td>\n",
       "      <td>1722.300000</td>\n",
       "      <td>1910.5</td>\n",
       "      <td>1725.8</td>\n",
       "      <td>1291.713162</td>\n",
       "      <td>8559.613165</td>\n",
       "    </tr>\n",
       "  </tbody>\n",
       "</table>\n",
       "</div>"
      ],
      "text/plain": [
       "           Jaffna      Vauniya  Killinochi  Mullaitivu       Mannar  \\\n",
       "Year                                                                  \n",
       "1989   928.899996   996.900000       998.4       686.0  1140.410000   \n",
       "1990  1502.000000  1314.800000      1255.3       903.0   918.849499   \n",
       "1991  1095.999997  1037.942334      1407.7       510.5   722.255278   \n",
       "1992   864.165499  1166.300000      1105.6       501.7   646.520715   \n",
       "1993  1909.300003  1722.300000      1910.5      1725.8  1291.713162   \n",
       "\n",
       "            total  \n",
       "Year               \n",
       "1989  4750.609996  \n",
       "1990  5893.949499  \n",
       "1991  4774.397609  \n",
       "1992  4284.286214  \n",
       "1993  8559.613165  "
      ]
     },
     "execution_count": 147,
     "metadata": {},
     "output_type": "execute_result"
    }
   ],
   "source": [
    "df_seasonal = df.drop(['Date', 'Season', 'Month'], axis=1)\n",
    "df_seasonal = df_seasonal.groupby(['Year']).sum()\n",
    "df_seasonal.head()\n"
   ]
  },
  {
   "cell_type": "code",
   "execution_count": 148,
   "id": "purple-highlight",
   "metadata": {},
   "outputs": [
    {
     "data": {
      "text/plain": [
       "Mann_Kendall_Test(trend='no trend', h=False, p=1.0, z=0.0, Tau=-0.0022988505747126436, s=-1.0, var_s=3141.6666666666665, slope=-0.2062495463124776, intercept=1350.685357416531)"
      ]
     },
     "execution_count": 148,
     "metadata": {},
     "output_type": "execute_result"
    }
   ],
   "source": [
    "#perform Mann-Kendall Trend Test\n",
    "mk.original_test(df_seasonal['Jaffna'])"
   ]
  },
  {
   "cell_type": "code",
   "execution_count": 149,
   "id": "satellite-emerald",
   "metadata": {},
   "outputs": [
    {
     "data": {
      "text/plain": [
       "Mann_Kendall_Test(trend='increasing', h=True, p=0.011295345713621785, z=2.533426402497224, Tau=0.32873563218390806, s=143.0, var_s=3141.6666666666665, slope=11.968421052631578, intercept=1195.757894736842)"
      ]
     },
     "execution_count": 149,
     "metadata": {},
     "output_type": "execute_result"
    }
   ],
   "source": [
    "mk.original_test(df_seasonal['Vauniya'])"
   ]
  },
  {
   "cell_type": "code",
   "execution_count": 150,
   "id": "crazy-circus",
   "metadata": {},
   "outputs": [
    {
     "data": {
      "text/plain": [
       "Mann_Kendall_Test(trend='increasing', h=True, p=0.026946782463489027, z=2.212287844434196, Tau=0.28735632183908044, s=125.0, var_s=3141.6666666666665, slope=11.649999999999977, intercept=1075.7250000000004)"
      ]
     },
     "execution_count": 150,
     "metadata": {},
     "output_type": "execute_result"
    }
   ],
   "source": [
    "mk.original_test(df_seasonal['Killinochi'])"
   ]
  },
  {
   "cell_type": "code",
   "execution_count": 151,
   "id": "early-congo",
   "metadata": {},
   "outputs": [
    {
     "data": {
      "text/plain": [
       "Mann_Kendall_Test(trend='increasing', h=True, p=0.0006137187417227796, z=3.425477952672303, Tau=0.4436781609195402, s=193.0, var_s=3141.6666666666665, slope=34.027272727272745, intercept=960.454545454545)"
      ]
     },
     "execution_count": 151,
     "metadata": {},
     "output_type": "execute_result"
    }
   ],
   "source": [
    "mk.original_test(df_seasonal['Mullaitivu'])"
   ]
  },
  {
   "cell_type": "code",
   "execution_count": 152,
   "id": "noticed-upset",
   "metadata": {},
   "outputs": [
    {
     "data": {
      "text/plain": [
       "Mann_Kendall_Test(trend='no trend', h=False, p=0.5441196833389506, z=0.6065950541190537, Tau=0.08045977011494253, s=35.0, var_s=3141.6666666666665, slope=2.3944446738888954, intercept=895.880552228611)"
      ]
     },
     "execution_count": 152,
     "metadata": {},
     "output_type": "execute_result"
    }
   ],
   "source": [
    "mk.original_test(df_seasonal['Mannar'])"
   ]
  },
  {
   "cell_type": "code",
   "execution_count": 153,
   "id": "experimental-sender",
   "metadata": {},
   "outputs": [
    {
     "data": {
      "text/plain": [
       "Mann_Kendall_Test(trend='increasing', h=True, p=0.0053825476031263975, z=2.783200836546246, Tau=0.36091954022988504, s=157.0, var_s=3141.6666666666665, slope=67.60000092833333, intercept=5346.690707430666)"
      ]
     },
     "execution_count": 153,
     "metadata": {},
     "output_type": "execute_result"
    }
   ],
   "source": [
    "mk.original_test(df_seasonal['total'])"
   ]
  },
  {
   "cell_type": "code",
   "execution_count": 154,
   "id": "paperback-satisfaction",
   "metadata": {},
   "outputs": [
    {
     "data": {
      "text/plain": [
       "Jaffna        23.362103\n",
       "Vauniya       18.541495\n",
       "Killinochi    23.685456\n",
       "Mullaitivu    32.664138\n",
       "Mannar        21.498950\n",
       "total         18.660393\n",
       "dtype: float64"
      ]
     },
     "execution_count": 154,
     "metadata": {},
     "output_type": "execute_result"
    }
   ],
   "source": [
    "#Calculating coefficient of variance\n",
    "cv = lambda x: np.std(x, ddof=1) / np.mean(x) * 100 \n",
    "df_seasonal.apply(cv)"
   ]
  }
 ],
 "metadata": {
  "interpreter": {
   "hash": "135773bf58e6095051471bd72b6c42a2b4f85ab8b287d6603681753095dfd262"
  },
  "kernelspec": {
   "display_name": "Python 3.9.12 ('msc_project')",
   "language": "python",
   "name": "python3"
  },
  "language_info": {
   "codemirror_mode": {
    "name": "ipython",
    "version": 3
   },
   "file_extension": ".py",
   "mimetype": "text/x-python",
   "name": "python",
   "nbconvert_exporter": "python",
   "pygments_lexer": "ipython3",
   "version": "3.9.12"
  }
 },
 "nbformat": 4,
 "nbformat_minor": 5
}
